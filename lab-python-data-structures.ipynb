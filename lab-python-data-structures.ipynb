{
 "cells": [
  {
   "cell_type": "markdown",
   "metadata": {
    "tags": []
   },
   "source": [
    "# Lab | Data Structures "
   ]
  },
  {
   "cell_type": "markdown",
   "metadata": {},
   "source": [
    "## Exercise: Managing Customer Orders\n",
    "\n",
    "As part of a business venture, you are starting an online store that sells various products. To ensure smooth operations, you need to develop a program that manages customer orders and inventory.\n",
    "\n",
    "Follow the steps below to complete the exercise:\n",
    "\n",
    "1. Define a list called `products` that contains the following items: \"t-shirt\", \"mug\", \"hat\", \"book\", \"keychain\".\n",
    "\n",
    "2. Create an empty dictionary called `inventory`.\n",
    "\n",
    "3. Ask the user to input the quantity of each product available in the inventory. Use the product names from the `products` list as keys in the `inventory` dictionary and assign the respective quantities as values.\n",
    "\n",
    "4. Create an empty set called `customer_orders`.\n",
    "\n",
    "5. Ask the user to input the name of three products that a customer wants to order (from those in the products list, meaning three products out of \"t-shirt\", \"mug\", \"hat\", \"book\" or \"keychain\". Add each product name to the `customer_orders` set.\n",
    "\n",
    "6. Print the products in the `customer_orders` set.\n",
    "\n",
    "7. Calculate the following order statistics:\n",
    "   - Total Products Ordered: The total number of products in the `customer_orders` set.\n",
    "   - Percentage of Products Ordered: The percentage of products ordered compared to the total available products.\n",
    "   \n",
    "   Store these statistics in a tuple called `order_status`.\n",
    "\n",
    "8. Print the order statistics using the following format:\n",
    "   ```\n",
    "   Order Statistics:\n",
    "   Total Products Ordered: <total_products_ordered>\n",
    "   Percentage of Products Ordered: <percentage_ordered>% \n",
    "   ```\n",
    "\n",
    "9. Update the inventory by subtracting 1 from the quantity of each product. Modify the `inventory` dictionary accordingly.\n",
    "\n",
    "10. Print the updated inventory, displaying the quantity of each product on separate lines.\n",
    "\n",
    "Solve the exercise by implementing the steps using the Python concepts of lists, dictionaries, sets, and basic input/output operations. "
   ]
  },
  {
   "cell_type": "code",
   "execution_count": 36,
   "metadata": {},
   "outputs": [
    {
     "name": "stdout",
     "output_type": "stream",
     "text": [
      "please enter the name of three products to order (choose from: ['t-shirt', 'mug', 'hat', 'book', 'keychain'] )\n",
      "customer's order contains: {'hat', 'book', 'mug'}\n",
      "\n",
      "Order statistics:\n",
      "total products ordered:3\n",
      "percentage of products ordered:7.5%\n",
      "\n",
      "Updated inventory\n",
      "t-shirt:9\n",
      "mug:8\n",
      "hat:7\n",
      "book:6\n",
      "keychain:5\n"
     ]
    }
   ],
   "source": [
    "#1 define the list of products\n",
    "products=[\"t-shirt\",\"mug\",\"hat\",\"book\",\"keychain\"] \n",
    "#type(products)\n",
    "\n",
    "#2 create an empty dictionary \n",
    "inventory={}\n",
    "#type(inventory)\n",
    "\n",
    "#3 ask user to input the quantity for each product\n",
    "for product in products:\n",
    "    quantity = int(input(f\"Enter the quantity for {product}:\"))\n",
    "    inventory[product]=quantity \n",
    "\n",
    "#4 create an empty set\n",
    "customer_orders=set()\n",
    "#type(customer_orders)\n",
    "\n",
    "#5 ask user to input the name of 3 products to order\n",
    "print('please enter the name of three products to order (choose from:',products,')')\n",
    "while len(customer_orders)<3: #we continue until 3 products choosing from the list are added\n",
    "    order=input('enter product name:').strip().lower()# we use strip() to remove leading and trailing space and lower() to convert the input to lowercase\n",
    "    if order in products:\n",
    "        customer_orders.add(order)\n",
    "    else:\n",
    "        print('invalid product, please choose from the list')\n",
    "\n",
    "#6 print the customer's order\n",
    "print(\"customer's order contains:\",customer_orders)\n",
    "\n",
    "#7 Calculate the order statistics\n",
    "total_products_ordered= len(customer_orders)\n",
    "percentage_ordered=(total_products_ordered/sum(inventory.values()))*100\n",
    "order_status=(total_products_ordered,round(percentage_ordered,2))#round the % to 2 decimal places\n",
    "\n",
    "#8 print the order statistics\n",
    "print(\"\\nOrder statistics:\")\n",
    "print(f\"total products ordered:{order_status[0]}\")\n",
    "print(f\"percentage of products ordered:{order_status[1]}%\")\n",
    "\n",
    "#9 Updated the inventory by subtracting 1 from the quantity of each product\n",
    "for product in inventory:\n",
    "    if inventory[product]>0:\n",
    "        inventory[product]-=1\n",
    "\n",
    "#10 print updated inventory \n",
    "print(\"\\nUpdated inventory\")       \n",
    "for product,quantity in inventory.items():\n",
    "    print(f\"{product}:{quantity}\")\n",
    "\n",
    "\n"
   ]
  },
  {
   "cell_type": "code",
   "execution_count": null,
   "metadata": {},
   "outputs": [],
   "source": []
  }
 ],
 "metadata": {
  "kernelspec": {
   "display_name": "Python 3",
   "language": "python",
   "name": "python3"
  },
  "language_info": {
   "codemirror_mode": {
    "name": "ipython",
    "version": 3
   },
   "file_extension": ".py",
   "mimetype": "text/x-python",
   "name": "python",
   "nbconvert_exporter": "python",
   "pygments_lexer": "ipython3",
   "version": "3.13.2"
  }
 },
 "nbformat": 4,
 "nbformat_minor": 4
}
